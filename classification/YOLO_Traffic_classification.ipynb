{
 "cells": [
  {
   "cell_type": "markdown",
   "metadata": {},
   "source": [
    "# YOLO (You Only Look Once) Implementation for Traffic Assesment"
   ]
  },
  {
   "cell_type": "markdown",
   "metadata": {},
   "source": [
    "## Prerequisites"
   ]
  },
  {
   "cell_type": "markdown",
   "metadata": {},
   "source": [
    "#### Installing python dependencies"
   ]
  },
  {
   "cell_type": "code",
   "execution_count": 1,
   "metadata": {
    "scrolled": true
   },
   "outputs": [
    {
     "output_type": "stream",
     "name": "stdout",
     "text": "Requirement already satisfied: pip==20.0.2 in ./env/lib/python3.6/site-packages (from -r requirements.txt (line 1)) (20.0.2)\nRequirement already satisfied: jupyter==1.0.0 in ./env/lib/python3.6/site-packages (from -r requirements.txt (line 2)) (1.0.0)\nRequirement already satisfied: pillow==7.0.0 in ./env/lib/python3.6/site-packages (from -r requirements.txt (line 3)) (7.0.0)\nRequirement already satisfied: tensorflow-gpu==2.1.0 in ./env/lib/python3.6/site-packages (from -r requirements.txt (line 4)) (2.1.0)\nRequirement already satisfied: numpy==1.18.2 in ./env/lib/python3.6/site-packages (from -r requirements.txt (line 5)) (1.18.2)\nRequirement already satisfied: matplotlib==3.0.3 in ./env/lib/python3.6/site-packages (from -r requirements.txt (line 6)) (3.0.3)\nRequirement already satisfied: imgaug==0.4.0 in ./env/lib/python3.6/site-packages (from -r requirements.txt (line 7)) (0.4.0)\nRequirement already satisfied: ipywidgets in ./env/lib/python3.6/site-packages (from jupyter==1.0.0->-r requirements.txt (line 2)) (7.5.1)\nRequirement already satisfied: jupyter-console in ./env/lib/python3.6/site-packages (from jupyter==1.0.0->-r requirements.txt (line 2)) (6.1.0)\nRequirement already satisfied: ipykernel in ./env/lib/python3.6/site-packages (from jupyter==1.0.0->-r requirements.txt (line 2)) (5.2.0)\nRequirement already satisfied: qtconsole in ./env/lib/python3.6/site-packages (from jupyter==1.0.0->-r requirements.txt (line 2)) (4.7.2)\nRequirement already satisfied: nbconvert in ./env/lib/python3.6/site-packages (from jupyter==1.0.0->-r requirements.txt (line 2)) (5.6.1)\nRequirement already satisfied: notebook in ./env/lib/python3.6/site-packages (from jupyter==1.0.0->-r requirements.txt (line 2)) (6.0.3)\nRequirement already satisfied: absl-py>=0.7.0 in ./env/lib/python3.6/site-packages (from tensorflow-gpu==2.1.0->-r requirements.txt (line 4)) (0.9.0)\nRequirement already satisfied: wheel>=0.26; python_version >= \"3\" in ./env/lib/python3.6/site-packages (from tensorflow-gpu==2.1.0->-r requirements.txt (line 4)) (0.34.2)\nRequirement already satisfied: google-pasta>=0.1.6 in ./env/lib/python3.6/site-packages (from tensorflow-gpu==2.1.0->-r requirements.txt (line 4)) (0.2.0)\nRequirement already satisfied: tensorflow-estimator<2.2.0,>=2.1.0rc0 in ./env/lib/python3.6/site-packages (from tensorflow-gpu==2.1.0->-r requirements.txt (line 4)) (2.1.0)\nRequirement already satisfied: gast==0.2.2 in ./env/lib/python3.6/site-packages (from tensorflow-gpu==2.1.0->-r requirements.txt (line 4)) (0.2.2)\nRequirement already satisfied: protobuf>=3.8.0 in ./env/lib/python3.6/site-packages (from tensorflow-gpu==2.1.0->-r requirements.txt (line 4)) (3.11.3)\nRequirement already satisfied: opt-einsum>=2.3.2 in ./env/lib/python3.6/site-packages (from tensorflow-gpu==2.1.0->-r requirements.txt (line 4)) (3.2.0)\nRequirement already satisfied: six>=1.12.0 in ./env/lib/python3.6/site-packages (from tensorflow-gpu==2.1.0->-r requirements.txt (line 4)) (1.14.0)\nRequirement already satisfied: keras-preprocessing>=1.1.0 in ./env/lib/python3.6/site-packages (from tensorflow-gpu==2.1.0->-r requirements.txt (line 4)) (1.1.0)\nRequirement already satisfied: keras-applications>=1.0.8 in ./env/lib/python3.6/site-packages (from tensorflow-gpu==2.1.0->-r requirements.txt (line 4)) (1.0.8)\nRequirement already satisfied: astor>=0.6.0 in ./env/lib/python3.6/site-packages (from tensorflow-gpu==2.1.0->-r requirements.txt (line 4)) (0.8.1)\nRequirement already satisfied: tensorboard<2.2.0,>=2.1.0 in ./env/lib/python3.6/site-packages (from tensorflow-gpu==2.1.0->-r requirements.txt (line 4)) (2.1.1)\nRequirement already satisfied: wrapt>=1.11.1 in ./env/lib/python3.6/site-packages (from tensorflow-gpu==2.1.0->-r requirements.txt (line 4)) (1.12.1)\nRequirement already satisfied: termcolor>=1.1.0 in ./env/lib/python3.6/site-packages (from tensorflow-gpu==2.1.0->-r requirements.txt (line 4)) (1.1.0)\nRequirement already satisfied: scipy==1.4.1; python_version >= \"3\" in ./env/lib/python3.6/site-packages (from tensorflow-gpu==2.1.0->-r requirements.txt (line 4)) (1.4.1)\nRequirement already satisfied: grpcio>=1.8.6 in ./env/lib/python3.6/site-packages (from tensorflow-gpu==2.1.0->-r requirements.txt (line 4)) (1.27.2)\nRequirement already satisfied: kiwisolver>=1.0.1 in ./env/lib/python3.6/site-packages (from matplotlib==3.0.3->-r requirements.txt (line 6)) (1.1.0)\nRequirement already satisfied: cycler>=0.10 in ./env/lib/python3.6/site-packages (from matplotlib==3.0.3->-r requirements.txt (line 6)) (0.10.0)\nRequirement already satisfied: pyparsing!=2.0.4,!=2.1.2,!=2.1.6,>=2.0.1 in ./env/lib/python3.6/site-packages (from matplotlib==3.0.3->-r requirements.txt (line 6)) (2.4.6)\nRequirement already satisfied: python-dateutil>=2.1 in ./env/lib/python3.6/site-packages (from matplotlib==3.0.3->-r requirements.txt (line 6)) (2.8.1)\nRequirement already satisfied: imageio in ./env/lib/python3.6/site-packages (from imgaug==0.4.0->-r requirements.txt (line 7)) (2.8.0)\nRequirement already satisfied: opencv-python in ./env/lib/python3.6/site-packages (from imgaug==0.4.0->-r requirements.txt (line 7)) (4.2.0.32)\nRequirement already satisfied: scikit-image>=0.14.2 in ./env/lib/python3.6/site-packages (from imgaug==0.4.0->-r requirements.txt (line 7)) (0.16.2)\nRequirement already satisfied: Shapely in ./env/lib/python3.6/site-packages (from imgaug==0.4.0->-r requirements.txt (line 7)) (1.7.0)\nRequirement already satisfied: ipython>=4.0.0; python_version >= \"3.3\" in ./env/lib/python3.6/site-packages (from ipywidgets->jupyter==1.0.0->-r requirements.txt (line 2)) (7.13.0)\nRequirement already satisfied: nbformat>=4.2.0 in ./env/lib/python3.6/site-packages (from ipywidgets->jupyter==1.0.0->-r requirements.txt (line 2)) (5.0.4)\nRequirement already satisfied: widgetsnbextension~=3.5.0 in ./env/lib/python3.6/site-packages (from ipywidgets->jupyter==1.0.0->-r requirements.txt (line 2)) (3.5.1)\nRequirement already satisfied: traitlets>=4.3.1 in ./env/lib/python3.6/site-packages (from ipywidgets->jupyter==1.0.0->-r requirements.txt (line 2)) (4.3.3)\nRequirement already satisfied: pygments in ./env/lib/python3.6/site-packages (from jupyter-console->jupyter==1.0.0->-r requirements.txt (line 2)) (2.6.1)\nRequirement already satisfied: jupyter-client in ./env/lib/python3.6/site-packages (from jupyter-console->jupyter==1.0.0->-r requirements.txt (line 2)) (6.1.2)\nRequirement already satisfied: prompt-toolkit!=3.0.0,!=3.0.1,<3.1.0,>=2.0.0 in ./env/lib/python3.6/site-packages (from jupyter-console->jupyter==1.0.0->-r requirements.txt (line 2)) (3.0.5)\nRequirement already satisfied: tornado>=4.2 in ./env/lib/python3.6/site-packages (from ipykernel->jupyter==1.0.0->-r requirements.txt (line 2)) (6.0.4)\nRequirement already satisfied: pyzmq>=17.1 in ./env/lib/python3.6/site-packages (from qtconsole->jupyter==1.0.0->-r requirements.txt (line 2)) (19.0.0)\nRequirement already satisfied: qtpy in ./env/lib/python3.6/site-packages (from qtconsole->jupyter==1.0.0->-r requirements.txt (line 2)) (1.9.0)\nRequirement already satisfied: jupyter-core in ./env/lib/python3.6/site-packages (from qtconsole->jupyter==1.0.0->-r requirements.txt (line 2)) (4.6.3)\nRequirement already satisfied: ipython-genutils in ./env/lib/python3.6/site-packages (from qtconsole->jupyter==1.0.0->-r requirements.txt (line 2)) (0.2.0)\nRequirement already satisfied: pandocfilters>=1.4.1 in ./env/lib/python3.6/site-packages (from nbconvert->jupyter==1.0.0->-r requirements.txt (line 2)) (1.4.2)\nRequirement already satisfied: jinja2>=2.4 in ./env/lib/python3.6/site-packages (from nbconvert->jupyter==1.0.0->-r requirements.txt (line 2)) (2.11.1)\nRequirement already satisfied: entrypoints>=0.2.2 in ./env/lib/python3.6/site-packages (from nbconvert->jupyter==1.0.0->-r requirements.txt (line 2)) (0.3)\nRequirement already satisfied: testpath in ./env/lib/python3.6/site-packages (from nbconvert->jupyter==1.0.0->-r requirements.txt (line 2)) (0.4.4)\nRequirement already satisfied: bleach in ./env/lib/python3.6/site-packages (from nbconvert->jupyter==1.0.0->-r requirements.txt (line 2)) (3.1.4)\nRequirement already satisfied: defusedxml in ./env/lib/python3.6/site-packages (from nbconvert->jupyter==1.0.0->-r requirements.txt (line 2)) (0.6.0)\nRequirement already satisfied: mistune<2,>=0.8.1 in ./env/lib/python3.6/site-packages (from nbconvert->jupyter==1.0.0->-r requirements.txt (line 2)) (0.8.4)\nRequirement already satisfied: prometheus-client in ./env/lib/python3.6/site-packages (from notebook->jupyter==1.0.0->-r requirements.txt (line 2)) (0.7.1)\nRequirement already satisfied: Send2Trash in ./env/lib/python3.6/site-packages (from notebook->jupyter==1.0.0->-r requirements.txt (line 2)) (1.5.0)\nRequirement already satisfied: terminado>=0.8.1 in ./env/lib/python3.6/site-packages (from notebook->jupyter==1.0.0->-r requirements.txt (line 2)) (0.8.3)\nRequirement already satisfied: setuptools in ./env/lib/python3.6/site-packages (from protobuf>=3.8.0->tensorflow-gpu==2.1.0->-r requirements.txt (line 4)) (46.1.3)\nRequirement already satisfied: h5py in ./env/lib/python3.6/site-packages (from keras-applications>=1.0.8->tensorflow-gpu==2.1.0->-r requirements.txt (line 4)) (2.10.0)\nRequirement already satisfied: requests<3,>=2.21.0 in ./env/lib/python3.6/site-packages (from tensorboard<2.2.0,>=2.1.0->tensorflow-gpu==2.1.0->-r requirements.txt (line 4)) (2.23.0)\nRequirement already satisfied: werkzeug>=0.11.15 in ./env/lib/python3.6/site-packages (from tensorboard<2.2.0,>=2.1.0->tensorflow-gpu==2.1.0->-r requirements.txt (line 4)) (1.0.0)\nRequirement already satisfied: markdown>=2.6.8 in ./env/lib/python3.6/site-packages (from tensorboard<2.2.0,>=2.1.0->tensorflow-gpu==2.1.0->-r requirements.txt (line 4)) (3.2.1)\nRequirement already satisfied: google-auth<2,>=1.6.3 in ./env/lib/python3.6/site-packages (from tensorboard<2.2.0,>=2.1.0->tensorflow-gpu==2.1.0->-r requirements.txt (line 4)) (1.12.0)\nRequirement already satisfied: google-auth-oauthlib<0.5,>=0.4.1 in ./env/lib/python3.6/site-packages (from tensorboard<2.2.0,>=2.1.0->tensorflow-gpu==2.1.0->-r requirements.txt (line 4)) (0.4.1)\nRequirement already satisfied: PyWavelets>=0.4.0 in ./env/lib/python3.6/site-packages (from scikit-image>=0.14.2->imgaug==0.4.0->-r requirements.txt (line 7)) (1.1.1)\nRequirement already satisfied: networkx>=2.0 in ./env/lib/python3.6/site-packages (from scikit-image>=0.14.2->imgaug==0.4.0->-r requirements.txt (line 7)) (2.4)\nRequirement already satisfied: decorator in ./env/lib/python3.6/site-packages (from ipython>=4.0.0; python_version >= \"3.3\"->ipywidgets->jupyter==1.0.0->-r requirements.txt (line 2)) (4.4.2)\nRequirement already satisfied: jedi>=0.10 in ./env/lib/python3.6/site-packages (from ipython>=4.0.0; python_version >= \"3.3\"->ipywidgets->jupyter==1.0.0->-r requirements.txt (line 2)) (0.16.0)\nRequirement already satisfied: pickleshare in ./env/lib/python3.6/site-packages (from ipython>=4.0.0; python_version >= \"3.3\"->ipywidgets->jupyter==1.0.0->-r requirements.txt (line 2)) (0.7.5)\nRequirement already satisfied: pexpect; sys_platform != \"win32\" in ./env/lib/python3.6/site-packages (from ipython>=4.0.0; python_version >= \"3.3\"->ipywidgets->jupyter==1.0.0->-r requirements.txt (line 2)) (4.8.0)\nRequirement already satisfied: backcall in ./env/lib/python3.6/site-packages (from ipython>=4.0.0; python_version >= \"3.3\"->ipywidgets->jupyter==1.0.0->-r requirements.txt (line 2)) (0.1.0)\nRequirement already satisfied: jsonschema!=2.5.0,>=2.4 in ./env/lib/python3.6/site-packages (from nbformat>=4.2.0->ipywidgets->jupyter==1.0.0->-r requirements.txt (line 2)) (3.2.0)\nRequirement already satisfied: wcwidth in ./env/lib/python3.6/site-packages (from prompt-toolkit!=3.0.0,!=3.0.1,<3.1.0,>=2.0.0->jupyter-console->jupyter==1.0.0->-r requirements.txt (line 2)) (0.1.9)\nRequirement already satisfied: MarkupSafe>=0.23 in ./env/lib/python3.6/site-packages (from jinja2>=2.4->nbconvert->jupyter==1.0.0->-r requirements.txt (line 2)) (1.1.1)\nRequirement already satisfied: webencodings in ./env/lib/python3.6/site-packages (from bleach->nbconvert->jupyter==1.0.0->-r requirements.txt (line 2)) (0.5.1)\nRequirement already satisfied: ptyprocess; os_name != \"nt\" in ./env/lib/python3.6/site-packages (from terminado>=0.8.1->notebook->jupyter==1.0.0->-r requirements.txt (line 2)) (0.6.0)\nRequirement already satisfied: certifi>=2017.4.17 in ./env/lib/python3.6/site-packages (from requests<3,>=2.21.0->tensorboard<2.2.0,>=2.1.0->tensorflow-gpu==2.1.0->-r requirements.txt (line 4)) (2019.11.28)\nRequirement already satisfied: urllib3!=1.25.0,!=1.25.1,<1.26,>=1.21.1 in ./env/lib/python3.6/site-packages (from requests<3,>=2.21.0->tensorboard<2.2.0,>=2.1.0->tensorflow-gpu==2.1.0->-r requirements.txt (line 4)) (1.25.8)\nRequirement already satisfied: idna<3,>=2.5 in ./env/lib/python3.6/site-packages (from requests<3,>=2.21.0->tensorboard<2.2.0,>=2.1.0->tensorflow-gpu==2.1.0->-r requirements.txt (line 4)) (2.9)\nRequirement already satisfied: chardet<4,>=3.0.2 in ./env/lib/python3.6/site-packages (from requests<3,>=2.21.0->tensorboard<2.2.0,>=2.1.0->tensorflow-gpu==2.1.0->-r requirements.txt (line 4)) (3.0.4)\nRequirement already satisfied: rsa<4.1,>=3.1.4 in ./env/lib/python3.6/site-packages (from google-auth<2,>=1.6.3->tensorboard<2.2.0,>=2.1.0->tensorflow-gpu==2.1.0->-r requirements.txt (line 4)) (4.0)\nRequirement already satisfied: cachetools<5.0,>=2.0.0 in ./env/lib/python3.6/site-packages (from google-auth<2,>=1.6.3->tensorboard<2.2.0,>=2.1.0->tensorflow-gpu==2.1.0->-r requirements.txt (line 4)) (4.0.0)\nRequirement already satisfied: pyasn1-modules>=0.2.1 in ./env/lib/python3.6/site-packages (from google-auth<2,>=1.6.3->tensorboard<2.2.0,>=2.1.0->tensorflow-gpu==2.1.0->-r requirements.txt (line 4)) (0.2.8)\nRequirement already satisfied: requests-oauthlib>=0.7.0 in ./env/lib/python3.6/site-packages (from google-auth-oauthlib<0.5,>=0.4.1->tensorboard<2.2.0,>=2.1.0->tensorflow-gpu==2.1.0->-r requirements.txt (line 4)) (1.3.0)\nRequirement already satisfied: parso>=0.5.2 in ./env/lib/python3.6/site-packages (from jedi>=0.10->ipython>=4.0.0; python_version >= \"3.3\"->ipywidgets->jupyter==1.0.0->-r requirements.txt (line 2)) (0.6.2)\nRequirement already satisfied: importlib-metadata; python_version < \"3.8\" in ./env/lib/python3.6/site-packages (from jsonschema!=2.5.0,>=2.4->nbformat>=4.2.0->ipywidgets->jupyter==1.0.0->-r requirements.txt (line 2)) (1.6.0)\nRequirement already satisfied: pyrsistent>=0.14.0 in ./env/lib/python3.6/site-packages (from jsonschema!=2.5.0,>=2.4->nbformat>=4.2.0->ipywidgets->jupyter==1.0.0->-r requirements.txt (line 2)) (0.16.0)\nRequirement already satisfied: attrs>=17.4.0 in ./env/lib/python3.6/site-packages (from jsonschema!=2.5.0,>=2.4->nbformat>=4.2.0->ipywidgets->jupyter==1.0.0->-r requirements.txt (line 2)) (19.3.0)\nRequirement already satisfied: pyasn1>=0.1.3 in ./env/lib/python3.6/site-packages (from rsa<4.1,>=3.1.4->google-auth<2,>=1.6.3->tensorboard<2.2.0,>=2.1.0->tensorflow-gpu==2.1.0->-r requirements.txt (line 4)) (0.4.8)\nRequirement already satisfied: oauthlib>=3.0.0 in ./env/lib/python3.6/site-packages (from requests-oauthlib>=0.7.0->google-auth-oauthlib<0.5,>=0.4.1->tensorboard<2.2.0,>=2.1.0->tensorflow-gpu==2.1.0->-r requirements.txt (line 4)) (3.1.0)\nRequirement already satisfied: zipp>=0.5 in ./env/lib/python3.6/site-packages (from importlib-metadata; python_version < \"3.8\"->jsonschema!=2.5.0,>=2.4->nbformat>=4.2.0->ipywidgets->jupyter==1.0.0->-r requirements.txt (line 2)) (3.1.0)\n"
    }
   ],
   "source": [
    "!pip install -r requirements.txt"
   ]
  },
  {
   "cell_type": "markdown",
   "metadata": {},
   "source": [
    "#### Importing required libraries"
   ]
  },
  {
   "cell_type": "code",
   "execution_count": 2,
   "metadata": {},
   "outputs": [
    {
     "output_type": "stream",
     "name": "stdout",
     "text": "Tensorflow version: 2.1.0\nGPU: ['/device:CPU:0', '/device:XLA_CPU:0', '/device:XLA_GPU:0']\n"
    }
   ],
   "source": [
    "import os\n",
    "import random\n",
    "\n",
    "import tensorflow as tf\n",
    "import tensorflow.keras.backend as K\n",
    "from tensorflow.keras import layers, models\n",
    "import numpy as np\n",
    "import PIL\n",
    "from PIL import Image\n",
    "import matplotlib.pyplot as plt\n",
    "import matplotlib.image\n",
    "import matplotlib.patches as patches\n",
    "import configparser\n",
    "import ast\n",
    "from xml.dom import minidom\n",
    "\n",
    "from src.data_generator import DataGenerator\n",
    "from src.data_preview import DataPreview\n",
    "\n",
    "from tensorflow.python.client import device_lib\n",
    "print('Tensorflow version: {}'.format(tf.__version__))\n",
    "print('GPU: {}'.format([x.name for x in device_lib.list_local_devices()]))"
   ]
  },
  {
   "cell_type": "markdown",
   "metadata": {},
   "source": [
    "#### Setting YOLO Parameters"
   ]
  },
  {
   "cell_type": "code",
   "execution_count": 3,
   "metadata": {},
   "outputs": [],
   "source": [
    "with open('./config/classes.names') as class_file:\n",
    "    LABELS = class_file.read().splitlines()\n",
    ""
   ]
  },
  {
   "cell_type": "code",
   "execution_count": 4,
   "metadata": {},
   "outputs": [],
   "source": [
    "config = configparser.ConfigParser()\n",
    "config.read('config/params.config')\n",
    "\n",
    "IMAGE_W             = int(config['YOLO']['IMAGE_W'])\n",
    "IMAGE_H             = int(config['YOLO']['IMAGE_H'])\n",
    "GRID_W              = int(config['YOLO']['GRID_W'])\n",
    "GRID_H              = int(config['YOLO']['GRID_H'])\n",
    "BOXES               = int(config['YOLO']['BOXES'])\n",
    "CLASSES             = int(config['YOLO']['CLASSES'])\n",
    "MIN_SCORE           = float(config['YOLO']['MIN_SCORE'])\n",
    "MIN_IOU             = float(config['YOLO']['MIN_IOU'])\n",
    "ANCHORS             = ast.literal_eval(config['YOLO']['ANCHORS'])\n",
    "\n",
    "TRAIN_BATCH_SIZE    = int(config['TRAINING']['TRAIN_BATCH_SIZE'])\n",
    "VAL_BATCH_SIZE      = int(config['TRAINING']['VAL_BATCH_SIZE'])\n",
    "EPOCHS              = int(config['TRAINING']['EPOCHS'])\n",
    "\n",
    "IMAGE_FOLDER        = config['DIR']['IMAGES']\n",
    "ANNOTATION_FOLDER   = config['DIR']['ANNOTATIONS']"
   ]
  },
  {
   "cell_type": "markdown",
   "metadata": {},
   "source": [
    "## Loading training/validation datasets"
   ]
  },
  {
   "cell_type": "code",
   "execution_count": 5,
   "metadata": {},
   "outputs": [
    {
     "output_type": "execute_result",
     "data": {
      "text/plain": "<PrefetchDataset shapes: ((None, 512, 512, 3), (None, 2)), types: (tf.float32, tf.int32)>"
     },
     "metadata": {},
     "execution_count": 5
    }
   ],
   "source": [
    "dataset = DataGenerator.generate_tf_dataset(\n",
    "    ANNOTATION_FOLDER,\n",
    "    IMAGE_FOLDER,\n",
    "    LABELS,\n",
    "    TRAIN_BATCH_SIZE,\n",
    "    (IMAGE_W, IMAGE_H))\n",
    "\n",
    "dataset"
   ]
  },
  {
   "cell_type": "code",
   "execution_count": 8,
   "metadata": {},
   "outputs": [
    {
     "output_type": "error",
     "ename": "InvalidArgumentError",
     "evalue": "Index out of range using input dim 1; input has only 1 dims [Op:StridedSlice] name: strided_slice/",
     "traceback": [
      "\u001b[0;31m---------------------------------------------------------------------------\u001b[0m",
      "\u001b[0;31mInvalidArgumentError\u001b[0m                      Traceback (most recent call last)",
      "\u001b[0;32m<ipython-input-8-6c2979262617>\u001b[0m in \u001b[0;36m<module>\u001b[0;34m\u001b[0m\n\u001b[1;32m      1\u001b[0m \u001b[0;32mfor\u001b[0m \u001b[0mi\u001b[0m \u001b[0;32min\u001b[0m \u001b[0mrange\u001b[0m\u001b[0;34m(\u001b[0m\u001b[0;36m5\u001b[0m\u001b[0;34m)\u001b[0m\u001b[0;34m:\u001b[0m\u001b[0;34m\u001b[0m\u001b[0;34m\u001b[0m\u001b[0m\n\u001b[0;32m----> 2\u001b[0;31m     \u001b[0mDataPreview\u001b[0m\u001b[0;34m.\u001b[0m\u001b[0mpreview_dataset\u001b[0m\u001b[0;34m(\u001b[0m\u001b[0mdataset\u001b[0m\u001b[0;34m,\u001b[0m \u001b[0;36m0\u001b[0m\u001b[0;34m)\u001b[0m\u001b[0;34m\u001b[0m\u001b[0;34m\u001b[0m\u001b[0m\n\u001b[0m",
      "\u001b[0;32m/media/data/Projects/programming/traffic-brain/feature/classification/classification/src/data_preview.py\u001b[0m in \u001b[0;36mpreview_dataset\u001b[0;34m(dataset, image_index)\u001b[0m\n\u001b[1;32m     17\u001b[0m                 \u001b[0mbatch\u001b[0m\u001b[0;34m[\u001b[0m\u001b[0;36m1\u001b[0m\u001b[0;34m]\u001b[0m \u001b[0;34m:\u001b[0m \u001b[0mannotations\u001b[0m \u001b[0;34m:\u001b[0m \u001b[0mtensor\u001b[0m \u001b[0;34m(\u001b[0m\u001b[0mshape\u001b[0m \u001b[0;34m:\u001b[0m \u001b[0mbatch_size\u001b[0m\u001b[0;34m,\u001b[0m \u001b[0mmax\u001b[0m \u001b[0mannot\u001b[0m\u001b[0;34m,\u001b[0m \u001b[0;36m5\u001b[0m\u001b[0;34m)\u001b[0m\u001b[0;34m\u001b[0m\u001b[0;34m\u001b[0m\u001b[0m\n\u001b[1;32m     18\u001b[0m \u001b[0;34m\u001b[0m\u001b[0m\n\u001b[0;32m---> 19\u001b[0;31m         \u001b[0mReturns\u001b[0m\u001b[0;34m:\u001b[0m\u001b[0;34m\u001b[0m\u001b[0;34m\u001b[0m\u001b[0m\n\u001b[0m\u001b[1;32m     20\u001b[0m         \u001b[0;34m-\u001b[0m\u001b[0;34m-\u001b[0m\u001b[0;34m-\u001b[0m\u001b[0;34m-\u001b[0m\u001b[0;34m-\u001b[0m\u001b[0;34m-\u001b[0m\u001b[0;34m-\u001b[0m\u001b[0;34m-\u001b[0m\u001b[0;34m\u001b[0m\u001b[0;34m\u001b[0m\u001b[0m\n\u001b[1;32m     21\u001b[0m         '''\n",
      "\u001b[0;32m/media/data/Projects/programming/traffic-brain/feature/classification/classification/env/lib/python3.6/site-packages/tensorflow_core/python/ops/array_ops.py\u001b[0m in \u001b[0;36m_slice_helper\u001b[0;34m(tensor, slice_spec, var)\u001b[0m\n\u001b[1;32m    896\u001b[0m         \u001b[0mellipsis_mask\u001b[0m\u001b[0;34m=\u001b[0m\u001b[0mellipsis_mask\u001b[0m\u001b[0;34m,\u001b[0m\u001b[0;34m\u001b[0m\u001b[0;34m\u001b[0m\u001b[0m\n\u001b[1;32m    897\u001b[0m         \u001b[0mvar\u001b[0m\u001b[0;34m=\u001b[0m\u001b[0mvar\u001b[0m\u001b[0;34m,\u001b[0m\u001b[0;34m\u001b[0m\u001b[0;34m\u001b[0m\u001b[0m\n\u001b[0;32m--> 898\u001b[0;31m         name=name)\n\u001b[0m\u001b[1;32m    899\u001b[0m \u001b[0;34m\u001b[0m\u001b[0m\n\u001b[1;32m    900\u001b[0m \u001b[0;34m\u001b[0m\u001b[0m\n",
      "\u001b[0;32m/media/data/Projects/programming/traffic-brain/feature/classification/classification/env/lib/python3.6/site-packages/tensorflow_core/python/ops/array_ops.py\u001b[0m in \u001b[0;36mstrided_slice\u001b[0;34m(input_, begin, end, strides, begin_mask, end_mask, ellipsis_mask, new_axis_mask, shrink_axis_mask, var, name)\u001b[0m\n\u001b[1;32m   1062\u001b[0m       \u001b[0mellipsis_mask\u001b[0m\u001b[0;34m=\u001b[0m\u001b[0mellipsis_mask\u001b[0m\u001b[0;34m,\u001b[0m\u001b[0;34m\u001b[0m\u001b[0;34m\u001b[0m\u001b[0m\n\u001b[1;32m   1063\u001b[0m       \u001b[0mnew_axis_mask\u001b[0m\u001b[0;34m=\u001b[0m\u001b[0mnew_axis_mask\u001b[0m\u001b[0;34m,\u001b[0m\u001b[0;34m\u001b[0m\u001b[0;34m\u001b[0m\u001b[0m\n\u001b[0;32m-> 1064\u001b[0;31m       shrink_axis_mask=shrink_axis_mask)\n\u001b[0m\u001b[1;32m   1065\u001b[0m \u001b[0;34m\u001b[0m\u001b[0m\n\u001b[1;32m   1066\u001b[0m   \u001b[0mparent_name\u001b[0m \u001b[0;34m=\u001b[0m \u001b[0mname\u001b[0m\u001b[0;34m\u001b[0m\u001b[0;34m\u001b[0m\u001b[0m\n",
      "\u001b[0;32m/media/data/Projects/programming/traffic-brain/feature/classification/classification/env/lib/python3.6/site-packages/tensorflow_core/python/ops/gen_array_ops.py\u001b[0m in \u001b[0;36mstrided_slice\u001b[0;34m(input, begin, end, strides, begin_mask, end_mask, ellipsis_mask, new_axis_mask, shrink_axis_mask, name)\u001b[0m\n\u001b[1;32m   9511\u001b[0m         \u001b[0;32mpass\u001b[0m  \u001b[0;31m# Add nodes to the TensorFlow graph.\u001b[0m\u001b[0;34m\u001b[0m\u001b[0;34m\u001b[0m\u001b[0m\n\u001b[1;32m   9512\u001b[0m     \u001b[0;32mexcept\u001b[0m \u001b[0m_core\u001b[0m\u001b[0;34m.\u001b[0m\u001b[0m_NotOkStatusException\u001b[0m \u001b[0;32mas\u001b[0m \u001b[0me\u001b[0m\u001b[0;34m:\u001b[0m\u001b[0;34m\u001b[0m\u001b[0;34m\u001b[0m\u001b[0m\n\u001b[0;32m-> 9513\u001b[0;31m       \u001b[0m_ops\u001b[0m\u001b[0;34m.\u001b[0m\u001b[0mraise_from_not_ok_status\u001b[0m\u001b[0;34m(\u001b[0m\u001b[0me\u001b[0m\u001b[0;34m,\u001b[0m \u001b[0mname\u001b[0m\u001b[0;34m)\u001b[0m\u001b[0;34m\u001b[0m\u001b[0;34m\u001b[0m\u001b[0m\n\u001b[0m\u001b[1;32m   9514\u001b[0m   \u001b[0;31m# Add nodes to the TensorFlow graph.\u001b[0m\u001b[0;34m\u001b[0m\u001b[0;34m\u001b[0m\u001b[0;34m\u001b[0m\u001b[0m\n\u001b[1;32m   9515\u001b[0m   \u001b[0;32mif\u001b[0m \u001b[0mbegin_mask\u001b[0m \u001b[0;32mis\u001b[0m \u001b[0;32mNone\u001b[0m\u001b[0;34m:\u001b[0m\u001b[0;34m\u001b[0m\u001b[0;34m\u001b[0m\u001b[0m\n",
      "\u001b[0;32m/media/data/Projects/programming/traffic-brain/feature/classification/classification/env/lib/python3.6/site-packages/tensorflow_core/python/framework/ops.py\u001b[0m in \u001b[0;36mraise_from_not_ok_status\u001b[0;34m(e, name)\u001b[0m\n\u001b[1;32m   6604\u001b[0m   \u001b[0mmessage\u001b[0m \u001b[0;34m=\u001b[0m \u001b[0me\u001b[0m\u001b[0;34m.\u001b[0m\u001b[0mmessage\u001b[0m \u001b[0;34m+\u001b[0m \u001b[0;34m(\u001b[0m\u001b[0;34m\" name: \"\u001b[0m \u001b[0;34m+\u001b[0m \u001b[0mname\u001b[0m \u001b[0;32mif\u001b[0m \u001b[0mname\u001b[0m \u001b[0;32mis\u001b[0m \u001b[0;32mnot\u001b[0m \u001b[0;32mNone\u001b[0m \u001b[0;32melse\u001b[0m \u001b[0;34m\"\"\u001b[0m\u001b[0;34m)\u001b[0m\u001b[0;34m\u001b[0m\u001b[0;34m\u001b[0m\u001b[0m\n\u001b[1;32m   6605\u001b[0m   \u001b[0;31m# pylint: disable=protected-access\u001b[0m\u001b[0;34m\u001b[0m\u001b[0;34m\u001b[0m\u001b[0;34m\u001b[0m\u001b[0m\n\u001b[0;32m-> 6606\u001b[0;31m   \u001b[0msix\u001b[0m\u001b[0;34m.\u001b[0m\u001b[0mraise_from\u001b[0m\u001b[0;34m(\u001b[0m\u001b[0mcore\u001b[0m\u001b[0;34m.\u001b[0m\u001b[0m_status_to_exception\u001b[0m\u001b[0;34m(\u001b[0m\u001b[0me\u001b[0m\u001b[0;34m.\u001b[0m\u001b[0mcode\u001b[0m\u001b[0;34m,\u001b[0m \u001b[0mmessage\u001b[0m\u001b[0;34m)\u001b[0m\u001b[0;34m,\u001b[0m \u001b[0;32mNone\u001b[0m\u001b[0;34m)\u001b[0m\u001b[0;34m\u001b[0m\u001b[0;34m\u001b[0m\u001b[0m\n\u001b[0m\u001b[1;32m   6607\u001b[0m   \u001b[0;31m# pylint: enable=protected-access\u001b[0m\u001b[0;34m\u001b[0m\u001b[0;34m\u001b[0m\u001b[0;34m\u001b[0m\u001b[0m\n\u001b[1;32m   6608\u001b[0m \u001b[0;34m\u001b[0m\u001b[0m\n",
      "\u001b[0;32m/media/data/Projects/programming/traffic-brain/feature/classification/classification/env/lib/python3.6/site-packages/six.py\u001b[0m in \u001b[0;36mraise_from\u001b[0;34m(value, from_value)\u001b[0m\n",
      "\u001b[0;31mInvalidArgumentError\u001b[0m: Index out of range using input dim 1; input has only 1 dims [Op:StridedSlice] name: strided_slice/"
     ]
    }
   ],
   "source": [
    "for i in range(5):\n",
    "    DataPreview.preview_dataset(dataset, 0)"
   ]
  },
  {
   "cell_type": "code",
   "execution_count": 12,
   "metadata": {},
   "outputs": [
    {
     "output_type": "execute_result",
     "data": {
      "text/plain": "<generator object DataGenerator.augment_dataset at 0x7f85db5e6f68>"
     },
     "metadata": {},
     "execution_count": 12
    }
   ],
   "source": [
    "dataset = DataGenerator.augment_dataset(\n",
    "    dataset,\n",
    "    (IMAGE_W, IMAGE_H))"
   ]
  },
  {
   "cell_type": "markdown",
   "metadata": {},
   "source": [
    "#### Testing whether the images & objects are loaded properly"
   ]
  },
  {
   "cell_type": "code",
   "execution_count": 24,
   "metadata": {
    "scrolled": true
   },
   "outputs": [
    {
     "output_type": "error",
     "ename": "NameError",
     "evalue": "name 'train_images' is not defined",
     "traceback": [
      "\u001b[0;31m---------------------------------------------------------------------------\u001b[0m",
      "\u001b[0;31mNameError\u001b[0m                                 Traceback (most recent call last)",
      "\u001b[0;32m<ipython-input-24-a052d413f4e6>\u001b[0m in \u001b[0;36m<module>\u001b[0;34m\u001b[0m\n\u001b[1;32m      1\u001b[0m \u001b[0mplt\u001b[0m\u001b[0;34m.\u001b[0m\u001b[0mfigure\u001b[0m\u001b[0;34m(\u001b[0m\u001b[0;34m)\u001b[0m\u001b[0;34m\u001b[0m\u001b[0;34m\u001b[0m\u001b[0m\n\u001b[1;32m      2\u001b[0m \u001b[0;32mfor\u001b[0m \u001b[0mi\u001b[0m \u001b[0;32min\u001b[0m \u001b[0mrange\u001b[0m\u001b[0;34m(\u001b[0m\u001b[0;36m0\u001b[0m\u001b[0;34m,\u001b[0m \u001b[0;36m5\u001b[0m\u001b[0;34m)\u001b[0m\u001b[0;34m:\u001b[0m\u001b[0;34m\u001b[0m\u001b[0;34m\u001b[0m\u001b[0m\n\u001b[0;32m----> 3\u001b[0;31m     \u001b[0mrng\u001b[0m \u001b[0;34m=\u001b[0m \u001b[0mrandom\u001b[0m\u001b[0;34m.\u001b[0m\u001b[0mrandint\u001b[0m\u001b[0;34m(\u001b[0m\u001b[0;36m1\u001b[0m\u001b[0;34m,\u001b[0m \u001b[0mlen\u001b[0m\u001b[0;34m(\u001b[0m\u001b[0mtrain_images\u001b[0m\u001b[0;34m)\u001b[0m\u001b[0;34m)\u001b[0m\u001b[0;34m\u001b[0m\u001b[0;34m\u001b[0m\u001b[0m\n\u001b[0m\u001b[1;32m      4\u001b[0m     \u001b[0mfig\u001b[0m\u001b[0;34m,\u001b[0m \u001b[0max\u001b[0m \u001b[0;34m=\u001b[0m \u001b[0mplt\u001b[0m\u001b[0;34m.\u001b[0m\u001b[0msubplots\u001b[0m\u001b[0;34m(\u001b[0m\u001b[0;36m1\u001b[0m\u001b[0;34m)\u001b[0m\u001b[0;34m\u001b[0m\u001b[0;34m\u001b[0m\u001b[0m\n\u001b[1;32m      5\u001b[0m     \u001b[0max\u001b[0m\u001b[0;34m.\u001b[0m\u001b[0mimshow\u001b[0m\u001b[0;34m(\u001b[0m\u001b[0mtrain_images\u001b[0m\u001b[0;34m[\u001b[0m\u001b[0mrng\u001b[0m\u001b[0;34m]\u001b[0m\u001b[0;34m.\u001b[0m\u001b[0mimage\u001b[0m\u001b[0;34m)\u001b[0m\u001b[0;34m\u001b[0m\u001b[0;34m\u001b[0m\u001b[0m\n",
      "\u001b[0;31mNameError\u001b[0m: name 'train_images' is not defined"
     ]
    }
   ],
   "source": [
    "plt.figure()\n",
    "for i in range(0, 5):\n",
    "    rng = random.randint(1, len(train_images))\n",
    "    fig, ax = plt.subplots(1)\n",
    "    ax.imshow(train_images[rng].image)\n",
    "    \n",
    "    for object in train_images[rng].objects:\n",
    "        rect = patches.Rectangle(\n",
    "            (object.bbox_corner(min)),\n",
    "            object.bbox_corner(max)[0] - object.bbox_corner(min)[0],\n",
    "            object.bbox_corner(max)[1] - object.bbox_corner(min)[1],\n",
    "            linewidth=2,\n",
    "            edgecolor='#ff0000',\n",
    "            facecolor='none'\n",
    "        )\n",
    "        ax.add_patch(rect)\n",
    "        \n",
    "    print(train_images[rng].to_printable())\n",
    "    plt.show()"
   ]
  },
  {
   "cell_type": "markdown",
   "metadata": {},
   "source": [
    "## Defining and training the neural network"
   ]
  },
  {
   "attachments": {
    "image.png": {
     "image/png": "[encoded data removed]"
    }
   },
   "cell_type": "markdown",
   "metadata": {},
   "source": [
    "![image.png](attachment:image.png)"
   ]
  },
  {
   "cell_type": "code",
   "execution_count": 5,
   "metadata": {
    "scrolled": true
   },
   "outputs": [
    {
     "output_type": "stream",
     "name": "stdout",
     "text": "Model: \"sequential\"\n_________________________________________________________________\nLayer (type)                 Output Shape              Param #   \n=================================================================\nconv2d (Conv2D)              (None, 512, 512, 32)      864       \n_________________________________________________________________\nbatch_normalization (BatchNo (None, 512, 512, 32)      128       \n_________________________________________________________________\nleaky_re_lu (LeakyReLU)      (None, 512, 512, 32)      0         \n_________________________________________________________________\nmax_pooling2d (MaxPooling2D) (None, 256, 256, 32)      0         \n_________________________________________________________________\nconv2d_1 (Conv2D)            (None, 256, 256, 64)      18432     \n_________________________________________________________________\nbatch_normalization_1 (Batch (None, 256, 256, 64)      256       \n_________________________________________________________________\nleaky_re_lu_1 (LeakyReLU)    (None, 256, 256, 64)      0         \n_________________________________________________________________\nmax_pooling2d_1 (MaxPooling2 (None, 128, 128, 64)      0         \n_________________________________________________________________\nconv2d_2 (Conv2D)            (None, 128, 128, 128)     73728     \n_________________________________________________________________\nbatch_normalization_2 (Batch (None, 128, 128, 128)     512       \n_________________________________________________________________\nleaky_re_lu_2 (LeakyReLU)    (None, 128, 128, 128)     0         \n_________________________________________________________________\nconv2d_3 (Conv2D)            (None, 128, 128, 64)      73728     \n_________________________________________________________________\nbatch_normalization_3 (Batch (None, 128, 128, 64)      256       \n_________________________________________________________________\nleaky_re_lu_3 (LeakyReLU)    (None, 128, 128, 64)      0         \n_________________________________________________________________\nconv2d_4 (Conv2D)            (None, 128, 128, 128)     73728     \n_________________________________________________________________\nbatch_normalization_4 (Batch (None, 128, 128, 128)     512       \n_________________________________________________________________\nleaky_re_lu_4 (LeakyReLU)    (None, 128, 128, 128)     0         \n_________________________________________________________________\nmax_pooling2d_2 (MaxPooling2 (None, 64, 64, 128)       0         \n_________________________________________________________________\nconv2d_5 (Conv2D)            (None, 64, 64, 256)       294912    \n_________________________________________________________________\nbatch_normalization_5 (Batch (None, 64, 64, 256)       1024      \n_________________________________________________________________\nleaky_re_lu_5 (LeakyReLU)    (None, 64, 64, 256)       0         \n_________________________________________________________________\nconv2d_6 (Conv2D)            (None, 64, 64, 128)       294912    \n_________________________________________________________________\nbatch_normalization_6 (Batch (None, 64, 64, 128)       512       \n_________________________________________________________________\nleaky_re_lu_6 (LeakyReLU)    (None, 64, 64, 128)       0         \n_________________________________________________________________\nconv2d_7 (Conv2D)            (None, 64, 64, 256)       294912    \n_________________________________________________________________\nbatch_normalization_7 (Batch (None, 64, 64, 256)       1024      \n_________________________________________________________________\nleaky_re_lu_7 (LeakyReLU)    (None, 64, 64, 256)       0         \n_________________________________________________________________\nmax_pooling2d_3 (MaxPooling2 (None, 32, 32, 256)       0         \n_________________________________________________________________\nconv2d_8 (Conv2D)            (None, 32, 32, 512)       1179648   \n_________________________________________________________________\nbatch_normalization_8 (Batch (None, 32, 32, 512)       2048      \n_________________________________________________________________\nleaky_re_lu_8 (LeakyReLU)    (None, 32, 32, 512)       0         \n_________________________________________________________________\nconv2d_9 (Conv2D)            (None, 32, 32, 256)       1179648   \n_________________________________________________________________\nbatch_normalization_9 (Batch (None, 32, 32, 256)       1024      \n_________________________________________________________________\nleaky_re_lu_9 (LeakyReLU)    (None, 32, 32, 256)       0         \n_________________________________________________________________\nconv2d_10 (Conv2D)           (None, 32, 32, 512)       1179648   \n_________________________________________________________________\nbatch_normalization_10 (Batc (None, 32, 32, 512)       2048      \n_________________________________________________________________\nleaky_re_lu_10 (LeakyReLU)   (None, 32, 32, 512)       0         \n_________________________________________________________________\nconv2d_11 (Conv2D)           (None, 32, 32, 256)       1179648   \n_________________________________________________________________\nbatch_normalization_11 (Batc (None, 32, 32, 256)       1024      \n_________________________________________________________________\nleaky_re_lu_11 (LeakyReLU)   (None, 32, 32, 256)       0         \n_________________________________________________________________\nconv2d_12 (Conv2D)           (None, 32, 32, 512)       1179648   \n_________________________________________________________________\nbatch_normalization_12 (Batc (None, 32, 32, 512)       2048      \n_________________________________________________________________\nleaky_re_lu_12 (LeakyReLU)   (None, 32, 32, 512)       0         \n_________________________________________________________________\nmax_pooling2d_4 (MaxPooling2 (None, 16, 16, 512)       0         \n_________________________________________________________________\nconv2d_13 (Conv2D)           (None, 16, 16, 1024)      4718592   \n_________________________________________________________________\nbatch_normalization_13 (Batc (None, 16, 16, 1024)      4096      \n_________________________________________________________________\nleaky_re_lu_13 (LeakyReLU)   (None, 16, 16, 1024)      0         \n_________________________________________________________________\nconv2d_14 (Conv2D)           (None, 16, 16, 512)       4718592   \n_________________________________________________________________\nbatch_normalization_14 (Batc (None, 16, 16, 512)       2048      \n_________________________________________________________________\nleaky_re_lu_14 (LeakyReLU)   (None, 16, 16, 512)       0         \n_________________________________________________________________\nconv2d_15 (Conv2D)           (None, 16, 16, 1024)      4718592   \n_________________________________________________________________\nbatch_normalization_15 (Batc (None, 16, 16, 1024)      4096      \n_________________________________________________________________\nleaky_re_lu_15 (LeakyReLU)   (None, 16, 16, 1024)      0         \n_________________________________________________________________\nconv2d_16 (Conv2D)           (None, 16, 16, 512)       4718592   \n_________________________________________________________________\nbatch_normalization_16 (Batc (None, 16, 16, 512)       2048      \n_________________________________________________________________\nleaky_re_lu_16 (LeakyReLU)   (None, 16, 16, 512)       0         \n_________________________________________________________________\nconv2d_17 (Conv2D)           (None, 16, 16, 1024)      4718592   \n_________________________________________________________________\nbatch_normalization_17 (Batc (None, 16, 16, 1024)      4096      \n_________________________________________________________________\nleaky_re_lu_17 (LeakyReLU)   (None, 16, 16, 1024)      0         \n_________________________________________________________________\nconv2d_18 (Conv2D)           (None, 16, 16, 512)       4718592   \n_________________________________________________________________\nbatch_normalization_18 (Batc (None, 16, 16, 512)       2048      \n_________________________________________________________________\nleaky_re_lu_18 (LeakyReLU)   (None, 16, 16, 512)       0         \n_________________________________________________________________\nconv2d_19 (Conv2D)           (None, 16, 16, 1024)      4718592   \n_________________________________________________________________\nbatch_normalization_19 (Batc (None, 16, 16, 1024)      4096      \n_________________________________________________________________\nleaky_re_lu_19 (LeakyReLU)   (None, 16, 16, 1024)      0         \n_________________________________________________________________\nconv2d_20 (Conv2D)           (None, 16, 16, 1024)      9437184   \n_________________________________________________________________\nbatch_normalization_20 (Batc (None, 16, 16, 1024)      4096      \n_________________________________________________________________\nleaky_re_lu_20 (LeakyReLU)   (None, 16, 16, 1024)      0         \n_________________________________________________________________\ndropout (Dropout)            (None, 16, 16, 1024)      0         \n_________________________________________________________________\nconv2d_21 (Conv2D)           (None, 16, 16, 60)        61500     \n_________________________________________________________________\nreshape (Reshape)            (None, 16, 16, 5, 12)     0         \n=================================================================\nTotal params: 49,591,324\nTrainable params: 49,571,804\nNon-trainable params: 19,520\n_________________________________________________________________\n"
    }
   ],
   "source": [
    "\n",
    "model = models.Sequential([\n",
    "    # (512, 512, 3) -> conv_0 + norm_0 + relu_0 + max_pool_0 -> (256, 256, 32)\n",
    "    layers.Conv2D(32, (3,3), strides=(1,1), padding='same', use_bias=False, input_shape=(512, 512, 3)),\n",
    "    layers.BatchNormalization(input_shape=(512, 512, 32)),\n",
    "    layers.LeakyReLU(alpha=0.1, input_shape=(512, 512, 32)),\n",
    "    layers.MaxPooling2D(pool_size=(2, 2), input_shape=(512, 512, 32)),\n",
    "\n",
    "\n",
    "    # (256, 256, 32) -> conv_1 + norm_1 + relu_1 + max_pool_1 -> (128, 128, 64)\n",
    "    layers.Conv2D(64, (3,3), strides=(1,1), padding='same', use_bias=False, input_shape=(256, 256, 32)),\n",
    "    layers.BatchNormalization(input_shape=(256, 256, 64)),\n",
    "    layers.LeakyReLU(alpha=0.1, input_shape=(256, 256, 64)),\n",
    "    layers.MaxPooling2D(pool_size=(2, 2), input_shape=(256, 256, 64)),\n",
    "\n",
    "\n",
    "    # (128, 128, 64) -> conv_2 + norm_2 + relu_2 -> (128, 128, 128)\n",
    "    layers.Conv2D(128, (3,3), strides=(1,1), padding='same', use_bias=False, input_shape=(128, 128, 128)),\n",
    "    layers.BatchNormalization(input_shape=(128, 128, 128)),\n",
    "    layers.LeakyReLU(alpha=0.1, input_shape=(128, 128, 128)),\n",
    "\n",
    "    # (128, 128, 128) -> conv_3 + norm_3 + relu_3 -> (128, 128, 64)\n",
    "    layers.Conv2D(64, (3,3), strides=(1,1), padding='same', use_bias=False, input_shape=(128, 128, 32)),\n",
    "    layers.BatchNormalization(input_shape=(128, 128, 64)),\n",
    "    layers.LeakyReLU(alpha=0.1, input_shape=(128, 128, 64)),\n",
    "\n",
    "    # (128, 128, 64) -> conv_4 + norm_4 + relu_4 + max_pool_2 -> (64, 64, 128)\n",
    "    layers.Conv2D(128, (3,3), strides=(1,1), padding='same', use_bias=False, input_shape=(128, 128, 64)),\n",
    "    layers.BatchNormalization(input_shape=(128, 128, 128)),\n",
    "    layers.LeakyReLU(alpha=0.1, input_shape=(128, 128, 128)),\n",
    "    layers.MaxPooling2D(pool_size=(2, 2), input_shape=(128, 128, 128)),\n",
    "\n",
    "\n",
    "    # (64, 64, 128) -> conv_5 + norm_5 + relu_5 -> (64, 64, 256)\n",
    "    layers.Conv2D(256, (3,3), strides=(1,1), padding='same', use_bias=False, input_shape=(64, 64, 128)),\n",
    "    layers.BatchNormalization(input_shape=(64, 64, 256)),\n",
    "    layers.LeakyReLU(alpha=0.1, input_shape=(64, 64, 256)),\n",
    "\n",
    "    # (64, 64, 256) -> conv_6 + norm_6 + relu_6 -> (64, 64, 128)\n",
    "    layers.Conv2D(128, (3,3), strides=(1,1), padding='same', use_bias=False, input_shape=(64, 64, 256)),\n",
    "    layers.BatchNormalization(input_shape=(64, 64, 128)),\n",
    "    layers.LeakyReLU(alpha=0.1, input_shape=(64, 64, 128)),\n",
    "\n",
    "    # (64, 64, 128) -> conv_7 + norm_7 + relu_7 + max_pool_3 -> (32, 32, 256)\n",
    "    layers.Conv2D(256, (3,3), strides=(1,1), padding='same', use_bias=False, input_shape=(64, 64, 128)),\n",
    "    layers.BatchNormalization(input_shape=(64, 64, 256)),\n",
    "    layers.LeakyReLU(alpha=0.1, input_shape=(64, 64, 256)),\n",
    "    layers.MaxPooling2D(pool_size=(2, 2), input_shape=(64, 64, 256)),\n",
    "\n",
    "\n",
    "    # (32, 32, 256) -> conv_8 + norm_8 + relu_8 -> (32, 32, 512)\n",
    "    layers.Conv2D(512, (3,3), strides=(1,1), padding='same', use_bias=False, input_shape=(32, 32, 256)),\n",
    "    layers.BatchNormalization(input_shape=(32, 32, 512)),\n",
    "    layers.LeakyReLU(alpha=0.1, input_shape=(32, 32, 512)),\n",
    "\n",
    "    # (32, 32, 512) -> conv_9 + norm_9 + relu_9 -> (32, 32, 256)\n",
    "    layers.Conv2D(256, (3,3), strides=(1,1), padding='same', use_bias=False, input_shape=(32, 32, 512)),\n",
    "    layers.BatchNormalization(input_shape=(32, 32, 256)),\n",
    "    layers.LeakyReLU(alpha=0.1, input_shape=(32, 32, 256)),\n",
    "\n",
    "    # (32, 32, 256) -> conv_10 + norm_10 + relu_10 -> (32, 32, 512)\n",
    "    layers.Conv2D(512, (3,3), strides=(1,1), padding='same', use_bias=False, input_shape=(32, 32, 256)),\n",
    "    layers.BatchNormalization(input_shape=(32, 32, 512)),\n",
    "    layers.LeakyReLU(alpha=0.1, input_shape=(32, 32, 512)),\n",
    "\n",
    "    # (32, 32, 512) -> conv_11 + norm_11 + relu_11 -> (32, 32, 256)\n",
    "    layers.Conv2D(256, (3,3), strides=(1,1), padding='same', use_bias=False, input_shape=(32, 32, 512)),\n",
    "    layers.BatchNormalization(input_shape=(32, 32, 256)),\n",
    "    layers.LeakyReLU(alpha=0.1, input_shape=(32, 32, 256)),\n",
    "\n",
    "    # (32, 32, 256) -> conv_12 + norm_12 + relu_12 + max_pool_4 -> (16, 16, 512)\n",
    "    layers.Conv2D(512, (3,3), strides=(1,1), padding='same', use_bias=False, input_shape=(32, 32, 256)),\n",
    "    layers.BatchNormalization(input_shape=(32, 32, 512)),\n",
    "    layers.LeakyReLU(alpha=0.1, input_shape=(32, 32, 512)),\n",
    "    layers.MaxPooling2D(pool_size=(2, 2), input_shape=(32, 32, 512)),\n",
    "\n",
    "\n",
    "    # (16, 16, 512) -> conv_13 + norm_13 + relu_13 -> (16, 16, 1024)\n",
    "    layers.Conv2D(1024, (3,3), strides=(1,1), padding='same', use_bias=False, input_shape=(16, 16, 512)),\n",
    "    layers.BatchNormalization(input_shape=(16, 16, 1024)),\n",
    "    layers.LeakyReLU(alpha=0.1, input_shape=(16, 16, 1024)),\n",
    "\n",
    "    # (16, 16, 1024) -> conv_14 + norm_14 + relu_14 -> (16, 16, 512)\n",
    "    layers.Conv2D(512, (3,3), strides=(1,1), padding='same', use_bias=False, input_shape=(16, 16, 1024)),\n",
    "    layers.BatchNormalization(input_shape=(16, 16, 512)),\n",
    "    layers.LeakyReLU(alpha=0.1, input_shape=(16, 16, 512)),\n",
    "\n",
    "    # (16, 16, 512) -> conv_15 + norm_15 + relu_15 -> (16, 16, 1024)\n",
    "    layers.Conv2D(1024, (3,3), strides=(1,1), padding='same', use_bias=False, input_shape=(16, 16, 512)),\n",
    "    layers.BatchNormalization(input_shape=(16, 16, 1024)),\n",
    "    layers.LeakyReLU(alpha=0.1, input_shape=(16, 16, 1024)),\n",
    "\n",
    "    # (16, 16, 1024) -> conv_16 + norm_16 + relu_16 -> (16, 16, 512)\n",
    "    layers.Conv2D(512, (3,3), strides=(1,1), padding='same', use_bias=False, input_shape=(16, 16, 1024)),\n",
    "    layers.BatchNormalization(input_shape=(16, 16, 512)),\n",
    "    layers.LeakyReLU(alpha=0.1, input_shape=(16, 16, 512)),\n",
    "\n",
    "    # (16, 16, 512) -> conv_17 + norm_17 + relu_17 -> (16, 16, 1024)\n",
    "    layers.Conv2D(1024, (3,3), strides=(1,1), padding='same', use_bias=False, input_shape=(16, 16, 512)),\n",
    "    layers.BatchNormalization(input_shape=(16, 16, 1024)),\n",
    "    layers.LeakyReLU(alpha=0.1, input_shape=(16, 16, 1024)),\n",
    "\n",
    "    # (16, 16, 1024) -> conv_18 + norm_18 + relu_18 -> (16, 16, 512)\n",
    "    layers.Conv2D(512, (3,3), strides=(1,1), padding='same', use_bias=False, input_shape=(16, 16, 1024)),\n",
    "    layers.BatchNormalization(input_shape=(16, 16, 512)),\n",
    "    layers.LeakyReLU(alpha=0.1, input_shape=(16, 16, 512)),\n",
    "\n",
    "    # (16, 16, 512) -> conv_19 + norm_19 + relu_19 -> (16, 16, 1024)\n",
    "    layers.Conv2D(1024, (3,3), strides=(1,1), padding='same', use_bias=False, input_shape=(16, 16, 512)),\n",
    "    layers.BatchNormalization(input_shape=(16, 16, 1024)),\n",
    "    layers.LeakyReLU(alpha=0.1, input_shape=(16, 16, 1024)),\n",
    "\n",
    "\n",
    "    # (16, 16, 1024) -> conv_20 + norm_20 + relu_20 + dropout -> (16, 16, 1024)\n",
    "    layers.Conv2D(1024, (3,3), strides=(1,1), padding='same', use_bias=False, input_shape=(16, 16, 1024)),\n",
    "    layers.BatchNormalization(input_shape=(16, 16, 1024)),\n",
    "    layers.LeakyReLU(alpha=0.1, input_shape=(16, 16, 1024)),\n",
    "    layers.Dropout(0.3, input_shape=(16, 16, 1024)),\n",
    "\n",
    "    # (16, 16, 1024) -> output_layer -> (16, 16, 5, 12)\n",
    "    layers.Conv2D(BOXES * (5 + CLASSES), (1,1), strides=(1,1), padding='same'),\n",
    "    layers.Reshape((GRID_W, GRID_H, BOXES, 5 + CLASSES))\n",
    "])\n",
    "model.summary()"
   ]
  },
  {
   "cell_type": "code",
   "execution_count": 27,
   "metadata": {},
   "outputs": [
    {
     "output_type": "error",
     "ename": "NameError",
     "evalue": "name 'model' is not defined",
     "traceback": [
      "\u001b[0;31m---------------------------------------------------------------------------\u001b[0m",
      "\u001b[0;31mNameError\u001b[0m                                 Traceback (most recent call last)",
      "\u001b[0;32m<ipython-input-27-0c169afaf445>\u001b[0m in \u001b[0;36m<module>\u001b[0;34m\u001b[0m\n\u001b[0;32m----> 1\u001b[0;31m model.compile(\n\u001b[0m\u001b[1;32m      2\u001b[0m     \u001b[0moptimizer\u001b[0m\u001b[0;34m=\u001b[0m\u001b[0;34m'adam'\u001b[0m\u001b[0;34m,\u001b[0m\u001b[0;34m\u001b[0m\u001b[0;34m\u001b[0m\u001b[0m\n\u001b[1;32m      3\u001b[0m     \u001b[0mloss\u001b[0m\u001b[0;34m=\u001b[0m\u001b[0;34m'sparse_categorical_crossentropy'\u001b[0m\u001b[0;34m,\u001b[0m\u001b[0;34m\u001b[0m\u001b[0;34m\u001b[0m\u001b[0m\n\u001b[1;32m      4\u001b[0m     \u001b[0mmetrics\u001b[0m\u001b[0;34m=\u001b[0m\u001b[0;34m[\u001b[0m\u001b[0;34m'accuracy'\u001b[0m\u001b[0;34m]\u001b[0m\u001b[0;34m\u001b[0m\u001b[0;34m\u001b[0m\u001b[0m\n\u001b[1;32m      5\u001b[0m )\n",
      "\u001b[0;31mNameError\u001b[0m: name 'model' is not defined"
     ]
    }
   ],
   "source": [
    "model.compile(\n",
    "    optimizer='adam',\n",
    "    loss='sparse_categorical_crossentropy',\n",
    "    metrics=['accuracy']\n",
    ")"
   ]
  },
  {
   "cell_type": "code",
   "execution_count": 28,
   "metadata": {},
   "outputs": [],
   "source": [
    "checkpoint_path = \"train_checkpont/cp.ckpt\"\n",
    "checkpoint_dir = os.path.dirname(checkpoint_path)\n",
    "\n",
    "p_callback = tf.keras.callbacks.ModelCheckpoint(filepath=checkpoint_path,\n",
    "                                                 save_weights_only=True,\n",
    "                                                 verbose=1)"
   ]
  },
  {
   "cell_type": "code",
   "execution_count": 29,
   "metadata": {},
   "outputs": [
    {
     "output_type": "error",
     "ename": "NameError",
     "evalue": "name 'train_images' is not defined",
     "traceback": [
      "\u001b[0;31m---------------------------------------------------------------------------\u001b[0m",
      "\u001b[0;31mNameError\u001b[0m                                 Traceback (most recent call last)",
      "\u001b[0;32m<ipython-input-29-1df50c11ecba>\u001b[0m in \u001b[0;36m<module>\u001b[0;34m\u001b[0m\n\u001b[0;32m----> 1\u001b[0;31m \u001b[0mprint\u001b[0m\u001b[0;34m(\u001b[0m\u001b[0mtrain_images\u001b[0m\u001b[0;34m.\u001b[0m\u001b[0mshape\u001b[0m\u001b[0;34m)\u001b[0m\u001b[0;34m\u001b[0m\u001b[0;34m\u001b[0m\u001b[0m\n\u001b[0m\u001b[1;32m      2\u001b[0m \u001b[0mprint\u001b[0m\u001b[0;34m(\u001b[0m\u001b[0mtrain_labels\u001b[0m\u001b[0;34m.\u001b[0m\u001b[0mshape\u001b[0m\u001b[0;34m)\u001b[0m\u001b[0;34m\u001b[0m\u001b[0;34m\u001b[0m\u001b[0m\n\u001b[1;32m      3\u001b[0m \u001b[0mprint\u001b[0m\u001b[0;34m(\u001b[0m\u001b[0mval_images\u001b[0m\u001b[0;34m.\u001b[0m\u001b[0mshape\u001b[0m\u001b[0;34m)\u001b[0m\u001b[0;34m\u001b[0m\u001b[0;34m\u001b[0m\u001b[0m\n\u001b[1;32m      4\u001b[0m \u001b[0mprint\u001b[0m\u001b[0;34m(\u001b[0m\u001b[0mval_labels\u001b[0m\u001b[0;34m.\u001b[0m\u001b[0mshape\u001b[0m\u001b[0;34m)\u001b[0m\u001b[0;34m\u001b[0m\u001b[0;34m\u001b[0m\u001b[0m\n",
      "\u001b[0;31mNameError\u001b[0m: name 'train_images' is not defined"
     ]
    }
   ],
   "source": [
    "print(train_images.shape)\n",
    "print(train_labels.shape)\n",
    "print(val_images.shape)\n",
    "print(val_labels.shape)"
   ]
  },
  {
   "cell_type": "code",
   "execution_count": 30,
   "metadata": {},
   "outputs": [
    {
     "output_type": "error",
     "ename": "NameError",
     "evalue": "name 'train_labels' is not defined",
     "traceback": [
      "\u001b[0;31m---------------------------------------------------------------------------\u001b[0m",
      "\u001b[0;31mNameError\u001b[0m                                 Traceback (most recent call last)",
      "\u001b[0;32m<ipython-input-30-48ed259ad2fc>\u001b[0m in \u001b[0;36m<module>\u001b[0;34m\u001b[0m\n\u001b[0;32m----> 1\u001b[0;31m \u001b[0mtrain_labels\u001b[0m\u001b[0;34m[\u001b[0m\u001b[0;36m0\u001b[0m\u001b[0;34m]\u001b[0m\u001b[0;34m\u001b[0m\u001b[0;34m\u001b[0m\u001b[0m\n\u001b[0m",
      "\u001b[0;31mNameError\u001b[0m: name 'train_labels' is not defined"
     ]
    }
   ],
   "source": [
    "train_labels[0]"
   ]
  },
  {
   "cell_type": "code",
   "execution_count": 31,
   "metadata": {
    "scrolled": true
   },
   "outputs": [
    {
     "output_type": "error",
     "ename": "NameError",
     "evalue": "name 'model' is not defined",
     "traceback": [
      "\u001b[0;31m---------------------------------------------------------------------------\u001b[0m",
      "\u001b[0;31mNameError\u001b[0m                                 Traceback (most recent call last)",
      "\u001b[0;32m<ipython-input-31-0c25ace94045>\u001b[0m in \u001b[0;36m<module>\u001b[0;34m\u001b[0m\n\u001b[0;32m----> 1\u001b[0;31m detector = model.fit(\n\u001b[0m\u001b[1;32m      2\u001b[0m     \u001b[0mtrain_images\u001b[0m\u001b[0;34m,\u001b[0m \u001b[0mtrain_labels\u001b[0m\u001b[0;34m,\u001b[0m \u001b[0mepochs\u001b[0m\u001b[0;34m=\u001b[0m\u001b[0;36m10\u001b[0m\u001b[0;34m,\u001b[0m\u001b[0;34m\u001b[0m\u001b[0;34m\u001b[0m\u001b[0m\n\u001b[1;32m      3\u001b[0m     validation_data=(\n\u001b[1;32m      4\u001b[0m         \u001b[0mval_images\u001b[0m\u001b[0;34m,\u001b[0m\u001b[0;34m\u001b[0m\u001b[0;34m\u001b[0m\u001b[0m\n\u001b[1;32m      5\u001b[0m         val_labels)\n",
      "\u001b[0;31mNameError\u001b[0m: name 'model' is not defined"
     ]
    }
   ],
   "source": [
    "detector = model.fit(\n",
    "    train_images, train_labels, epochs=10, \n",
    "    validation_data=(\n",
    "        val_images,\n",
    "        val_labels)\n",
    ")"
   ]
  },
  {
   "cell_type": "code",
   "execution_count": null,
   "metadata": {},
   "outputs": [],
   "source": []
  },
  {
   "cell_type": "code",
   "execution_count": null,
   "metadata": {},
   "outputs": [],
   "source": []
  },
  {
   "cell_type": "code",
   "execution_count": null,
   "metadata": {},
   "outputs": [],
   "source": []
  }
 ],
 "metadata": {
  "file_extension": ".py",
  "kernelspec": {
   "display_name": "Python 3",
   "language": "python",
   "name": "python3"
  },
  "language_info": {
   "codemirror_mode": {
    "name": "ipython",
    "version": 3
   },
   "file_extension": ".py",
   "mimetype": "text/x-python",
   "name": "python",
   "nbconvert_exporter": "python",
   "pygments_lexer": "ipython3",
   "version": "3.6.9-final"
  },
  "mimetype": "text/x-python",
  "name": "python",
  "npconvert_exporter": "python",
  "pygments_lexer": "ipython3",
  "version": 3
 },
 "nbformat": 4,
 "nbformat_minor": 2
}